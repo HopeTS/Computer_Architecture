{
 "cells": [
  {
   "cell_type": "markdown",
   "metadata": {},
   "source": [
    "# Project 3\n",
    "## Team Members: Brian McKenna, Robby Bergers\n",
    "\n",
    "### Objective:\n",
    "\n",
    "The second project is to work with additional data types in assembly (floating point for example), Basic File IO and a Simple Image format (PPM in this case).  \n",
    "\n",
    "### Task\n",
    "\n",
    "1) Create a function F(X,Y,R,C,MaxIt) which returns 0 or a number less thanMaxIt in R0 according to the Normal Julia Set definition.  \n",
    "\n",
    "X,Y are integers\n",
    "R and C are floating point numbers\n",
    "Maxit is an integer\n",
    "2) Create a driving function (can be C) which takes in the size of the image, R and Cmin and Cmax and the number of images.ppm  and outputs a sequence of images numbered 1 to number of images.\n",
    "\n",
    "3) Convert these images to PNG (or other format) to display in the Jupyter notebook.\n",
    "\n",
    "How to get Started?\n",
    "\n",
    "You might want to prototype the functions in C (or Java) and then convert them to assembly.  Top down design would be worthwhile.\n",
    "\n",
    "Plans:\n",
    "\n",
    "We will design this as a group.  You may work on it as a team and submit the same project multiple times provided you clearly identify the group members and what each person contributed."
   ]
  },
  {
   "cell_type": "code",
   "execution_count": 2,
   "metadata": {},
   "outputs": [
    {
     "name": "stdout",
     "output_type": "stream",
     "text": [
      "a.out\t       first2.ppm    first7.ppm    Hint3.ipynb\t\t  PPM2.c\n",
      "Desktop        first*-3.jpg  first*-8.jpg  Hint4.ipynb\t\t  PPM.c\n",
      "Downloads      first3.ppm    first8.ppm    main.c\t\t  Public\n",
      "F.c\t       first*-4.jpg  first*-9.jpg  main.s\t\t  spectral.c\n",
      "first*-0.jpg   first4.ppm    first9.ppm    p1\t\t\t  spectral.s\n",
      "first0.ppm     first*-5.jpg  first.png\t   P1 SUBMISSION.ipynb\t  Test.png\n",
      "first*-10.jpg  first5.ppm    first.ppm\t   P2Sub.ipynb\t\t  Test.ppm\n",
      "first*-1.jpg   first*-6.jpg  F.s\t   P2 Submission 2.ipynb  video.mov\n",
      "first1.ppm     first6.ppm    Hint1.ipynb   P2 Submission.ipynb\n",
      "first*-2.jpg   first*-7.jpg  Hint2.ipynb   P2 SUBMISSION.ipynb\n",
      "/bin/sh: 1: convert: not found\n",
      "a.out\t       first2.ppm    first7.ppm    Hint3.ipynb\t\t  PPM2.c\n",
      "Desktop        first*-3.jpg  first*-8.jpg  Hint4.ipynb\t\t  PPM.c\n",
      "Downloads      first3.ppm    first8.ppm    main.c\t\t  Public\n",
      "F.c\t       first*-4.jpg  first*-9.jpg  main.s\t\t  spectral.c\n",
      "first*-0.jpg   first4.ppm    first9.ppm    p1\t\t\t  spectral.s\n",
      "first0.ppm     first*-5.jpg  first.png\t   P1 SUBMISSION.ipynb\t  Test.png\n",
      "first*-10.jpg  first5.ppm    first.ppm\t   P2Sub.ipynb\t\t  Test.ppm\n",
      "first*-1.jpg   first*-6.jpg  F.s\t   P2 Submission 2.ipynb  video.mov\n",
      "first1.ppm     first6.ppm    Hint1.ipynb   P2 Submission.ipynb\n",
      "first*-2.jpg   first*-7.jpg  Hint2.ipynb   P2 SUBMISSION.ipynb\n"
     ]
    }
   ],
   "source": [
    "!gcc PPM.c\n",
    "!./a.out\n",
    "!ls\n",
    "!convert first.ppm first.png\n",
    "!ls"
   ]
  },
  {
   "cell_type": "markdown",
   "metadata": {},
   "source": [
    "![alt text](first.png \"Title\")"
   ]
  },
  {
   "cell_type": "markdown",
   "metadata": {},
   "source": [
    "## Next Steps\n",
    "It might be nice to use diagrams in Jupyter, UML is the way to discuss designs so we can use\n",
    "- http://plantuml.com/starting  \n",
    "- and this https://github.com/jbn/IPlantUML\n"
   ]
  },
  {
   "cell_type": "code",
   "execution_count": 3,
   "metadata": {},
   "outputs": [
    {
     "name": "stdout",
     "output_type": "stream",
     "text": [
      "Looking in indexes: https://pypi.org/simple, https://www.piwheels.org/simple\n",
      "Requirement already satisfied: iplantuml in /usr/local/lib/python3.5/dist-packages (0.1.1)\n",
      "Requirement already satisfied: plantweb in /usr/local/lib/python3.5/dist-packages (from iplantuml) (1.2.1)\n",
      "Requirement already satisfied: six in /usr/lib/python3/dist-packages (from plantweb->iplantuml) (1.10.0)\n",
      "Requirement already satisfied: requests in /usr/lib/python3/dist-packages (from plantweb->iplantuml) (2.12.4)\n",
      "Requirement already satisfied: docutils in /usr/local/lib/python3.5/dist-packages (from plantweb->iplantuml) (0.15.2)\n"
     ]
    }
   ],
   "source": [
    "!sudo pip3 install iplantuml"
   ]
  },
  {
   "cell_type": "code",
   "execution_count": 4,
   "metadata": {},
   "outputs": [
    {
     "name": "stdout",
     "output_type": "stream",
     "text": [
      "Reading package lists... Done\n",
      "Building dependency tree       \n",
      "Reading state information... Done\n",
      "plantuml is already the newest version (8039-1).\n",
      "0 upgraded, 0 newly installed, 0 to remove and 232 not upgraded.\n"
     ]
    }
   ],
   "source": [
    "!sudo apt install -y plantuml"
   ]
  },
  {
   "cell_type": "code",
   "execution_count": 5,
   "metadata": {},
   "outputs": [],
   "source": [
    "import iplantuml"
   ]
  },
  {
   "cell_type": "code",
   "execution_count": 6,
   "metadata": {},
   "outputs": [
    {
     "data": {
      "image/svg+xml": [
       "<svg contentScriptType=\"application/ecmascript\" contentStyleType=\"text/css\" height=\"156px\" preserveAspectRatio=\"none\" style=\"width:246px;height:156px;\" version=\"1.1\" viewBox=\"0 0 246 156\" width=\"246px\" xmlns=\"http://www.w3.org/2000/svg\" xmlns:xlink=\"http://www.w3.org/1999/xlink\" zoomAndPan=\"magnify\"><defs><filter height=\"300%\" id=\"fsv0g7ub4djg1\" width=\"300%\" x=\"-1\" y=\"-1\"><feGaussianBlur result=\"blurOut\" stdDeviation=\"2.0\"/><feColorMatrix in=\"blurOut\" result=\"blurOut2\" type=\"matrix\" values=\"0 0 0 0 0 0 0 0 0 0 0 0 0 0 0 0 0 0 .4 0\"/><feOffset dx=\"4.0\" dy=\"4.0\" in=\"blurOut2\" result=\"blurOut3\"/><feBlend in=\"SourceGraphic\" in2=\"blurOut3\" mode=\"normal\"/></filter></defs><g><line style=\"stroke: #A80036; stroke-width: 1.0; stroke-dasharray: 5.0,5.0;\" x1=\"33\" x2=\"33\" y1=\"38.2969\" y2=\"116.5625\"/><line style=\"stroke: #A80036; stroke-width: 1.0; stroke-dasharray: 5.0,5.0;\" x1=\"216\" x2=\"216\" y1=\"38.2969\" y2=\"116.5625\"/><rect fill=\"#FEFECE\" filter=\"url(#fsv0g7ub4djg1)\" height=\"30.2969\" style=\"stroke: #A80036; stroke-width: 1.5;\" width=\"46\" x=\"8\" y=\"3\"/><text fill=\"#000000\" font-family=\"sans-serif\" font-size=\"14\" lengthAdjust=\"spacingAndGlyphs\" textLength=\"32\" x=\"15\" y=\"22.9951\">Alice</text><rect fill=\"#FEFECE\" filter=\"url(#fsv0g7ub4djg1)\" height=\"30.2969\" style=\"stroke: #A80036; stroke-width: 1.5;\" width=\"46\" x=\"8\" y=\"115.5625\"/><text fill=\"#000000\" font-family=\"sans-serif\" font-size=\"14\" lengthAdjust=\"spacingAndGlyphs\" textLength=\"32\" x=\"15\" y=\"135.5576\">Alice</text><rect fill=\"#FEFECE\" filter=\"url(#fsv0g7ub4djg1)\" height=\"30.2969\" style=\"stroke: #A80036; stroke-width: 1.5;\" width=\"42\" x=\"193\" y=\"3\"/><text fill=\"#000000\" font-family=\"sans-serif\" font-size=\"14\" lengthAdjust=\"spacingAndGlyphs\" textLength=\"28\" x=\"200\" y=\"22.9951\">Bob</text><rect fill=\"#FEFECE\" filter=\"url(#fsv0g7ub4djg1)\" height=\"30.2969\" style=\"stroke: #A80036; stroke-width: 1.5;\" width=\"42\" x=\"193\" y=\"115.5625\"/><text fill=\"#000000\" font-family=\"sans-serif\" font-size=\"14\" lengthAdjust=\"spacingAndGlyphs\" textLength=\"28\" x=\"200\" y=\"135.5576\">Bob</text><polygon fill=\"#A80036\" points=\"204,65.4297,214,69.4297,204,73.4297,208,69.4297\" style=\"stroke: #A80036; stroke-width: 1.0;\"/><line style=\"stroke: #A80036; stroke-width: 1.0;\" x1=\"33\" x2=\"210\" y1=\"69.4297\" y2=\"69.4297\"/><text fill=\"#000000\" font-family=\"sans-serif\" font-size=\"13\" lengthAdjust=\"spacingAndGlyphs\" textLength=\"149\" x=\"40\" y=\"64.3638\">Authentication Request</text><polygon fill=\"#A80036\" points=\"44,94.5625,34,98.5625,44,102.5625,40,98.5625\" style=\"stroke: #A80036; stroke-width: 1.0;\"/><line style=\"stroke: #A80036; stroke-width: 1.0; stroke-dasharray: 2.0,2.0;\" x1=\"38\" x2=\"215\" y1=\"98.5625\" y2=\"98.5625\"/><text fill=\"#000000\" font-family=\"sans-serif\" font-size=\"13\" lengthAdjust=\"spacingAndGlyphs\" textLength=\"159\" x=\"50\" y=\"93.4966\">Authentication Response</text><!--MD5=[b88a19d00a77c47c73a02bf925864f03]\n",
       "@startuml\n",
       "Alice -> Bob: Authentication Request\n",
       "Bob - -> Alice: Authentication Response\n",
       "@enduml\n",
       "\n",
       "PlantUML version 1.2019.12(Sun Nov 03 10:24:54 UTC 2019)\n",
       "(GPL source distribution)\n",
       "Java Runtime: Java(TM) SE Runtime Environment\n",
       "JVM: Java HotSpot(TM) 64-Bit Server VM\n",
       "Java Version: 1.7.0_25-b15\n",
       "Operating System: Linux\n",
       "Default Encoding: UTF-8\n",
       "Language: en\n",
       "Country: US\n",
       "--></g></svg>"
      ],
      "text/plain": [
       "<IPython.core.display.SVG object>"
      ]
     },
     "execution_count": 6,
     "metadata": {},
     "output_type": "execute_result"
    }
   ],
   "source": [
    "\n",
    "\n",
    "%%plantuml\n",
    "\n",
    "@startuml\n",
    "Alice -> Bob: Authentication Request\n",
    "Bob --> Alice: Authentication Response\n",
    "@enduml"
   ]
  },
  {
   "cell_type": "markdown",
   "metadata": {},
   "source": [
    "## The above demonstrates that the install works.  \n",
    "Need to import iplantuml beform the magic\n",
    "Now lets create a Top down design of the project!!\n",
    "http://plantuml.com/\n",
    "\n",
    "We are going to use Work Breakdown"
   ]
  },
  {
   "cell_type": "code",
   "execution_count": 7,
   "metadata": {},
   "outputs": [
    {
     "data": {
      "image/svg+xml": [
       "<svg contentScriptType=\"application/ecmascript\" contentStyleType=\"text/css\" height=\"275px\" preserveAspectRatio=\"none\" style=\"width:963px;height:275px;\" version=\"1.1\" viewBox=\"0 0 963 275\" width=\"963px\" xmlns=\"http://www.w3.org/2000/svg\" xmlns:xlink=\"http://www.w3.org/1999/xlink\" zoomAndPan=\"magnify\"><defs><filter height=\"300%\" id=\"fnw3952hcak8x\" width=\"300%\" x=\"-1\" y=\"-1\"><feGaussianBlur result=\"blurOut\" stdDeviation=\"2.0\"/><feColorMatrix in=\"blurOut\" result=\"blurOut2\" type=\"matrix\" values=\"0 0 0 0 0 0 0 0 0 0 0 0 0 0 0 0 0 0 .4 0\"/><feOffset dx=\"4.0\" dy=\"4.0\" in=\"blurOut2\" result=\"blurOut3\"/><feBlend in=\"SourceGraphic\" in2=\"blurOut3\" mode=\"normal\"/></filter></defs><g><rect fill=\"#FEFECE\" filter=\"url(#fnw3952hcak8x)\" height=\"33.9688\" style=\"stroke: #A80036; stroke-width: 1.5;\" width=\"76\" x=\"423.25\" y=\"10\"/><text fill=\"#000000\" font-family=\"sans-serif\" font-size=\"12\" lengthAdjust=\"spacingAndGlyphs\" textLength=\"56\" x=\"433.25\" y=\"31.1387\">Project 3</text><line style=\"stroke: #A80036; stroke-width: 1.5;\" x1=\"461.25\" x2=\"461.25\" y1=\"43.9688\" y2=\"63.9688\"/><line style=\"stroke: #A80036; stroke-width: 1.5;\" x1=\"66.5\" x2=\"66.5\" y1=\"63.9688\" y2=\"83.9688\"/><rect fill=\"#FEFECE\" filter=\"url(#fnw3952hcak8x)\" height=\"33.9688\" style=\"stroke: #A80036; stroke-width: 1.5;\" width=\"113\" x=\"10\" y=\"83.9688\"/><text fill=\"#000000\" font-family=\"sans-serif\" font-size=\"12\" lengthAdjust=\"spacingAndGlyphs\" textLength=\"93\" x=\"20\" y=\"105.1074\">Assembly Work</text><line style=\"stroke: #A80036; stroke-width: 1.5;\" x1=\"66.5\" x2=\"76.5\" y1=\"149.9219\" y2=\"149.9219\"/><rect fill=\"#FEFECE\" filter=\"url(#fnw3952hcak8x)\" height=\"33.9688\" style=\"stroke: #A80036; stroke-width: 1.5;\" width=\"142\" x=\"76.5\" y=\"132.9375\"/><text fill=\"#000000\" font-family=\"sans-serif\" font-size=\"12\" lengthAdjust=\"spacingAndGlyphs\" textLength=\"122\" x=\"86.5\" y=\"154.0762\">Write Main Program</text><line style=\"stroke: #A80036; stroke-width: 1.5;\" x1=\"147.5\" x2=\"157.5\" y1=\"198.8906\" y2=\"198.8906\"/><rect fill=\"#FEFECE\" filter=\"url(#fnw3952hcak8x)\" height=\"33.9688\" style=\"stroke: #A80036; stroke-width: 1.5;\" width=\"159\" x=\"157.5\" y=\"181.9063\"/><text fill=\"#000000\" font-family=\"sans-serif\" font-size=\"12\" lengthAdjust=\"spacingAndGlyphs\" textLength=\"139\" x=\"167.5\" y=\"203.0449\">Write PPM file function</text><line style=\"stroke: #A80036; stroke-width: 1.5;\" x1=\"147.5\" x2=\"157.5\" y1=\"247.8594\" y2=\"247.8594\"/><rect fill=\"#FEFECE\" filter=\"url(#fnw3952hcak8x)\" height=\"33.9688\" style=\"stroke: #A80036; stroke-width: 1.5;\" width=\"132\" x=\"157.5\" y=\"230.875\"/><text fill=\"#000000\" font-family=\"sans-serif\" font-size=\"12\" lengthAdjust=\"spacingAndGlyphs\" textLength=\"112\" x=\"167.5\" y=\"252.0137\">Calculate Julia Set</text><line style=\"stroke: #A80036; stroke-width: 1.5;\" x1=\"147.5\" x2=\"147.5\" y1=\"166.9063\" y2=\"247.8594\"/><line style=\"stroke: #A80036; stroke-width: 1.5;\" x1=\"66.5\" x2=\"66.5\" y1=\"117.9375\" y2=\"149.9219\"/><line style=\"stroke: #A80036; stroke-width: 1.5;\" x1=\"396.5\" x2=\"396.5\" y1=\"63.9688\" y2=\"83.9688\"/><rect fill=\"#FEFECE\" filter=\"url(#fnw3952hcak8x)\" height=\"33.9688\" style=\"stroke: #A80036; stroke-width: 1.5;\" width=\"120\" x=\"336.5\" y=\"83.9688\"/><text fill=\"#000000\" font-family=\"sans-serif\" font-size=\"12\" lengthAdjust=\"spacingAndGlyphs\" textLength=\"100\" x=\"346.5\" y=\"105.1074\">Note Book Work</text><line style=\"stroke: #A80036; stroke-width: 1.5;\" x1=\"396.5\" x2=\"406.5\" y1=\"149.9219\" y2=\"149.9219\"/><rect fill=\"#FEFECE\" filter=\"url(#fnw3952hcak8x)\" height=\"33.9688\" style=\"stroke: #A80036; stroke-width: 1.5;\" width=\"132\" x=\"406.5\" y=\"132.9375\"/><path d=\"M421.5,145.9063 L420.5,148.9063 L417.5,148.9063 L420,150.9063 L419,153.9063 L421.5,151.9063 L424,153.9063 L423,150.9063 L425.5,148.9063 L422.5,148.9063 L421.5,145.9063 \" fill=\"#000000\" style=\"stroke: ; stroke-width: 0.0; stroke-dasharray: ;\"/><text fill=\"#000000\" font-family=\"sans-serif\" font-size=\"12\" lengthAdjust=\"spacingAndGlyphs\" textLength=\"98\" x=\"430.5\" y=\"154.0762\">Install iPlantuml</text><line style=\"stroke: #A80036; stroke-width: 1.5;\" x1=\"396.5\" x2=\"406.5\" y1=\"198.8906\" y2=\"198.8906\"/><rect fill=\"#FEFECE\" filter=\"url(#fnw3952hcak8x)\" height=\"33.9688\" style=\"stroke: #A80036; stroke-width: 1.5;\" width=\"319\" x=\"406.5\" y=\"181.9063\"/><text fill=\"#000000\" font-family=\"sans-serif\" font-size=\"12\" lengthAdjust=\"spacingAndGlyphs\" textLength=\"299\" x=\"416.5\" y=\"203.0449\">Update the Notebook to document the process</text><line style=\"stroke: #A80036; stroke-width: 1.5;\" x1=\"396.5\" x2=\"396.5\" y1=\"117.9375\" y2=\"198.8906\"/><line style=\"stroke: #A80036; stroke-width: 1.5;\" x1=\"793.5\" x2=\"793.5\" y1=\"63.9688\" y2=\"83.9688\"/><rect fill=\"#FEFECE\" filter=\"url(#fnw3952hcak8x)\" height=\"33.9688\" style=\"stroke: #A80036; stroke-width: 1.5;\" width=\"96\" x=\"745.5\" y=\"83.9688\"/><text fill=\"#000000\" font-family=\"sans-serif\" font-size=\"12\" lengthAdjust=\"spacingAndGlyphs\" textLength=\"76\" x=\"755.5\" y=\"105.1074\">RPI Updates</text><line style=\"stroke: #A80036; stroke-width: 1.5;\" x1=\"793.5\" x2=\"803.5\" y1=\"149.9219\" y2=\"149.9219\"/><rect fill=\"#FEFECE\" filter=\"url(#fnw3952hcak8x)\" height=\"33.9688\" style=\"stroke: #A80036; stroke-width: 1.5;\" width=\"149\" x=\"803.5\" y=\"132.9375\"/><path d=\"M818.5,145.9063 L817.5,148.9063 L814.5,148.9063 L817,150.9063 L816,153.9063 L818.5,151.9063 L821,153.9063 L820,150.9063 L822.5,148.9063 L819.5,148.9063 L818.5,145.9063 \" fill=\"#000000\" style=\"stroke: ; stroke-width: 0.0; stroke-dasharray: ;\"/><text fill=\"#000000\" font-family=\"sans-serif\" font-size=\"12\" lengthAdjust=\"spacingAndGlyphs\" textLength=\"115\" x=\"827.5\" y=\"154.0762\">Install ImageMagik</text><line style=\"stroke: #A80036; stroke-width: 1.5;\" x1=\"793.5\" x2=\"803.5\" y1=\"198.8906\" y2=\"198.8906\"/><rect fill=\"#FEFECE\" filter=\"url(#fnw3952hcak8x)\" height=\"33.9688\" style=\"stroke: #A80036; stroke-width: 1.5;\" width=\"140\" x=\"803.5\" y=\"181.9063\"/><path d=\"M818.5,194.875 L817.5,197.875 L814.5,197.875 L817,199.875 L816,202.875 L818.5,200.875 L821,202.875 L820,199.875 L822.5,197.875 L819.5,197.875 L818.5,194.875 \" fill=\"#000000\" style=\"stroke: ; stroke-width: 0.0; stroke-dasharray: ;\"/><text fill=\"#000000\" font-family=\"sans-serif\" font-size=\"12\" lengthAdjust=\"spacingAndGlyphs\" textLength=\"98\" x=\"827.5\" y=\"203.0449\">Install PlantUML</text><line style=\"stroke: #A80036; stroke-width: 1.5;\" x1=\"793.5\" x2=\"793.5\" y1=\"117.9375\" y2=\"198.8906\"/><line style=\"stroke: #A80036; stroke-width: 1.5;\" x1=\"66.5\" x2=\"793.5\" y1=\"63.9688\" y2=\"63.9688\"/><rect fill=\"#DDDDDD\" height=\"26.2969\" rx=\"5\" ry=\"5\" style=\"stroke: #000000; stroke-width: 1.0;\" width=\"65.3333\" x=\"838.1667\" y=\"232.8438\"/><path d=\"M849.8333,241.3073 L848.6667,244.8073 L845.1667,244.8073 L848.0833,247.1406 L846.9167,250.6406 L849.8333,248.3073 L852.75,250.6406 L851.5833,247.1406 L854.5,244.8073 L851,244.8073 L849.8333,241.3073 \" fill=\"#000000\" style=\"stroke: ; stroke-width: 0.0; stroke-dasharray: ;\"/><text fill=\"#000000\" font-family=\"sans-serif\" font-size=\"14\" lengthAdjust=\"spacingAndGlyphs\" textLength=\"38\" x=\"859.5\" y=\"250.8389\">Done</text><!--MD5=[e05f497954a21851efb68bbddf8145c3]\n",
       "@startwbs\n",
       "* Project 3\n",
       "** Assembly Work\n",
       "*** Write Main Program\n",
       "**** Write PPM file function\n",
       "**** Calculate Julia Set\n",
       "** Note Book Work\n",
       "*** <&star> Install iPlantuml\n",
       "*** Update the Notebook to document the process\n",
       "** RPI Updates\n",
       "*** <&star> Install ImageMagik\n",
       "*** <&star> Install PlantUML  \n",
       "legend right\n",
       "  <&star> Done\n",
       "endlegend\n",
       "@endwbs\n",
       "\n",
       "PlantUML version 1.2019.12(Sun Nov 03 10:24:54 UTC 2019)\n",
       "(GPL source distribution)\n",
       "Java Runtime: Java(TM) SE Runtime Environment\n",
       "JVM: Java HotSpot(TM) 64-Bit Server VM\n",
       "Java Version: 1.7.0_25-b15\n",
       "Operating System: Linux\n",
       "Default Encoding: UTF-8\n",
       "Language: en\n",
       "Country: US\n",
       "--></g></svg>"
      ],
      "text/plain": [
       "<IPython.core.display.SVG object>"
      ]
     },
     "execution_count": 7,
     "metadata": {},
     "output_type": "execute_result"
    }
   ],
   "source": [
    "%%plantuml\n",
    "\n",
    "@startwbs\n",
    "* Project 3\n",
    "** Assembly Work\n",
    "*** Write Main Program\n",
    "**** Write PPM file function\n",
    "**** Calculate Julia Set\n",
    "** Note Book Work\n",
    "*** <&star> Install iPlantuml\n",
    "*** Update the Notebook to document the process\n",
    "** RPI Updates\n",
    "*** <&star> Install ImageMagik\n",
    "*** <&star> Install PlantUML  \n",
    "legend right\n",
    "  <&star> Done\n",
    "endlegend\n",
    "@endwbs"
   ]
  },
  {
   "cell_type": "markdown",
   "metadata": {},
   "source": [
    "Bring in code for Floating Point vars"
   ]
  },
  {
   "cell_type": "code",
   "execution_count": 8,
   "metadata": {},
   "outputs": [
    {
     "name": "stdout",
     "output_type": "stream",
     "text": [
      "#include <stdlib.h>\r\n",
      "#include <stdio.h>\r\n",
      "int F(int X,int Y,float R,float cx,float cy,int MaxIt);\r\n",
      "void spectral_color(double *r,double *g,double *b,double l);\r\n",
      "\r\n",
      "int F(int X,int Y,float R,float cx,float cy,int MaxIt)\r\n",
      "{\r\n",
      "\tfloat zx = ((1.0*X)/511.)*2.*R-R;\r\n",
      "\tfloat zy = ((1.0*Y)/511.)*2.*R-R;\r\n",
      "\tfloat xtemp = 0.0;\r\n",
      "\r\n",
      "\tint iteration = 0;\r\n",
      "\tint max_iteration = MaxIt;\r\n",
      "\r\n",
      "\twhile ( (zx * zx + zy * zy) < R*R) \r\n",
      "\t{\r\n",
      "\t\txtemp = zx * zx - zy * zy;\r\n",
      "\t\tzy = 2 * zx * zy  + cy; \r\n",
      "\t\tzx = xtemp + cx;\r\n",
      "\r\n",
      "\t\titeration = iteration + 1;\r\n",
      "\t\tif (iteration >= max_iteration) break;\r\n",
      "\t}\r\n",
      "\r\n",
      "\tif (iteration == max_iteration)\r\n",
      "\t\treturn 0;\r\n",
      "\telse\r\n",
      "\t\treturn iteration;\r\n",
      "\t\r\n",
      "}\r\n"
     ]
    }
   ],
   "source": [
    "!cat F.c\n"
   ]
  },
  {
   "cell_type": "markdown",
   "metadata": {},
   "source": [
    "Compile floating point and main methods"
   ]
  },
  {
   "cell_type": "code",
   "execution_count": 9,
   "metadata": {},
   "outputs": [
    {
     "name": "stdout",
     "output_type": "stream",
     "text": [
      "cx = -0.701760,cy = -0.384200,R=4.000000 MaxIt=100/bin/sh: 1: convert: not found\n"
     ]
    }
   ],
   "source": [
    "!gcc F.c main.c spectral.c\n",
    "!./a.out  -0.70176 -0.3842 4.0 100\n",
    "\n",
    "!sudo rm -rf ~/.cache/chromium\n",
    "!convert Test.ppm Test.png"
   ]
  },
  {
   "cell_type": "markdown",
   "metadata": {},
   "source": [
    "View contents of directory and also run the executable a.out file"
   ]
  },
  {
   "cell_type": "code",
   "execution_count": 10,
   "metadata": {},
   "outputs": [
    {
     "name": "stdout",
     "output_type": "stream",
     "text": [
      "a.out\t       first2.ppm    first7.ppm    Hint3.ipynb\t\t  PPM2.c\n",
      "Desktop        first*-3.jpg  first*-8.jpg  Hint4.ipynb\t\t  PPM.c\n",
      "Downloads      first3.ppm    first8.ppm    main.c\t\t  Public\n",
      "F.c\t       first*-4.jpg  first*-9.jpg  main.s\t\t  spectral.c\n",
      "first*-0.jpg   first4.ppm    first9.ppm    p1\t\t\t  spectral.s\n",
      "first0.ppm     first*-5.jpg  first.png\t   P1 SUBMISSION.ipynb\t  Test.png\n",
      "first*-10.jpg  first5.ppm    first.ppm\t   P2Sub.ipynb\t\t  Test.ppm\n",
      "first*-1.jpg   first*-6.jpg  F.s\t   P2 Submission 2.ipynb  video.mov\n",
      "first1.ppm     first6.ppm    Hint1.ipynb   P2 Submission.ipynb\n",
      "first*-2.jpg   first*-7.jpg  Hint2.ipynb   P2 SUBMISSION.ipynb\n",
      "/bin/sh: 1: convert: not found\n"
     ]
    }
   ],
   "source": [
    "!gcc PPM2.c\n",
    "!./a.out\n",
    "!ls\n",
    "!convert -quality 100 first*.ppm first*.jpg"
   ]
  },
  {
   "cell_type": "markdown",
   "metadata": {},
   "source": [
    "Create slow moving jpg file from movie file"
   ]
  },
  {
   "cell_type": "code",
   "execution_count": 1,
   "metadata": {},
   "outputs": [
    {
     "name": "stdout",
     "output_type": "stream",
     "text": [
      "ffmpeg version 3.2.10-1~deb9u1+rpt2 Copyright (c) 2000-2018 the FFmpeg developers\n",
      "  built with gcc 6.3.0 (Raspbian 6.3.0-18+rpi1+deb9u1) 20170516\n",
      "  configuration: --prefix=/usr --extra-version='1~deb9u1+rpt2' --toolchain=hardened --libdir=/usr/lib/arm-linux-gnueabihf --incdir=/usr/include/arm-linux-gnueabihf --enable-gpl --disable-stripping --enable-avresample --enable-avisynth --enable-gnutls --enable-ladspa --enable-libass --enable-libbluray --enable-libbs2b --enable-libcaca --enable-libcdio --enable-libebur128 --enable-libflite --enable-libfontconfig --enable-libfreetype --enable-libfribidi --enable-libgme --enable-libgsm --enable-libmp3lame --enable-libopenjpeg --enable-libopenmpt --enable-libopus --enable-libpulse --enable-librubberband --enable-libshine --enable-libsnappy --enable-libsoxr --enable-libspeex --enable-libssh --enable-libtheora --enable-libtwolame --enable-libvorbis --enable-libvpx --enable-libwavpack --enable-libwebp --enable-libx265 --enable-libxvid --enable-libzmq --enable-libzvbi --enable-omx-rpi --enable-mmal --enable-openal --enable-opengl --enable-sdl2 --enable-libdc1394 --enable-libiec61883 --arch=armhf --enable-chromaprint --enable-frei0r --enable-libopencv --enable-libx264 --enable-shared\n",
      "  libavutil      55. 34.101 / 55. 34.101\n",
      "  libavcodec     57. 64.101 / 57. 64.101\n",
      "  libavformat    57. 56.101 / 57. 56.101\n",
      "  libavdevice    57.  1.100 / 57.  1.100\n",
      "  libavfilter     6. 65.100 /  6. 65.100\n",
      "  libavresample   3.  1.  0 /  3.  1.  0\n",
      "  libswscale      4.  2.100 /  4.  2.100\n",
      "  libswresample   2.  3.100 /  2.  3.100\n",
      "  libpostproc    54.  1.100 / 54.  1.100\n",
      "Input #0, image2, from 'first*-0.jpg':\n",
      "  Duration: 00:00:00.03, start: 0.000000, bitrate: N/A\n",
      "    Stream #0:0: Video: mjpeg, yuvj444p(pc, bt470bg/unknown/unknown), 800x800 [SAR 1:1 DAR 1:1], 30 tbr, 30 tbn, 30 tbc\n",
      "File 'first*-1.jpg' already exists. Overwrite ? [y/N] ^C\n"
     ]
    }
   ],
   "source": [
    "!ffmpeg -framerate 30 -i *.jpg contour.mov"
   ]
  },
  {
   "cell_type": "markdown",
   "metadata": {},
   "source": [
    "View floating point code again for julia set"
   ]
  },
  {
   "cell_type": "code",
   "execution_count": 3,
   "metadata": {},
   "outputs": [
    {
     "name": "stdout",
     "output_type": "stream",
     "text": [
      "#include <stdlib.h>\r\n",
      "#include <stdio.h>\r\n",
      "int F(int X,int Y,float R,float cx,float cy,int MaxIt);\r\n",
      "void spectral_color(double *r,double *g,double *b,double l);\r\n",
      "\r\n",
      "int F(int X,int Y,float R,float cx,float cy,int MaxIt)\r\n",
      "{\r\n",
      "\tfloat zx = ((1.0*X)/511.)*2.*R-R;\r\n",
      "\tfloat zy = ((1.0*Y)/511.)*2.*R-R;\r\n",
      "\tfloat xtemp = 0.0;\r\n",
      "\r\n",
      "\tint iteration = 0;\r\n",
      "\tint max_iteration = MaxIt;\r\n",
      "\r\n",
      "\twhile ( (zx * zx + zy * zy) < R*R) \r\n",
      "\t{\r\n",
      "\t\txtemp = zx * zx - zy * zy;\r\n",
      "\t\tzy = 2 * zx * zy  + cy; \r\n",
      "\t\tzx = xtemp + cx;\r\n",
      "\r\n",
      "\t\titeration = iteration + 1;\r\n",
      "\t\tif (iteration >= max_iteration) break;\r\n",
      "\t}\r\n",
      "\r\n",
      "\tif (iteration == max_iteration)\r\n",
      "\t\treturn 0;\r\n",
      "\telse\r\n",
      "\t\treturn iteration;\r\n",
      "\t\r\n",
      "}\r\n"
     ]
    }
   ],
   "source": [
    "!cat F.c"
   ]
  },
  {
   "cell_type": "markdown",
   "metadata": {},
   "source": [
    "Ran into errors while trying to convert code for julia set floating point from c to assembly"
   ]
  },
  {
   "cell_type": "code",
   "execution_count": 4,
   "metadata": {},
   "outputs": [
    {
     "name": "stdout",
     "output_type": "stream",
     "text": [
      "\u001b[01m\u001b[Kgcc:\u001b[m\u001b[K \u001b[01;31m\u001b[Kerror: \u001b[m\u001b[Kunrecognized argument in option ‘\u001b[01m\u001b[K-mfpu=vfpv2\u001b[m\u001b[K’\n",
      "\u001b[01m\u001b[Kgcc:\u001b[m\u001b[K \u001b[01;36m\u001b[Knote: \u001b[m\u001b[Kvalid arguments to ‘\u001b[01m\u001b[K-mfpu=\u001b[m\u001b[K’ are: crypto-neon-fp-armv8 fp-armv8 fpv4-sp-d16 fpv5-d16 fpv5-sp-d16 neon neon-fp-armv8 neon-fp16 neon-vfpv4 vfp vfp3 vfpv3 vfpv3-d16 vfpv3-d16-fp16 vfpv3-fp16 vfpv3xd vfpv3xd-fp16 vfpv4 vfpv4-d16\n",
      "\t\t\t.arch armv6\n",
      ".data \n",
      "\t\t\t\n",
      ".text\n",
      "F:   push {lr}\n",
      "@ X is in R0\n",
      "@ Y is in R1\n",
      "@ MaxIt is in R2\n",
      "@ S0 is R\n",
      "  R .req s0\n",
      "@ S1 is cx\n",
      "@ S2 is cy\n",
      "\n",
      "@ float zx = ((1.0*X)/511.)*2.*R-R;\n",
      "@ shift x by 1  and put into S3\n",
      "  zx .req s3\n",
      "  \n",
      "@ convert signed integer to float (this is an operation on S3)\n",
      "@ divide by the floating point constant 511.\n",
      "@ multiply by R\n",
      "@ subtract R\n",
      "\n",
      "@ Repeat for zy\n",
      "@ float zy = ((1.0*Y)/511.)*2.*R-R; (put this in s11 if we want to vectorize)\n",
      "    zy  .req s11\n",
      "\n",
      "@   float xtemp = 0.0; \n",
      "\n",
      "@\tint iteration = 0;\n",
      "    iter .req r0\n",
      "    sub iter,iter\n",
      "    \n",
      "@\tint max_iteration = MaxIt;\n",
      "    MaxIt .req r2\n",
      "    \n",
      "@  Recall zx is s3 and zy is s11\n",
      "@   while ( (zx * zx + zy * zy) < R*R) \n",
      "    vmul.f32  R,R,R   @ R is now squared\n",
      "    vmul.f32  s4,zx,zx\n",
      "    vmul.f32  s12,zy,zy\n",
      "    vadd.f32  s4,s4,s12\n",
      "    vcmp.f32  s4,R\n",
      "    bge done\n",
      "     \n",
      "    \n",
      "    \n",
      "done:     pop  {pc}\n"
     ]
    }
   ],
   "source": [
    "!gcc -S F.c -mfpu=vfpv2\n",
    "!cat F.s"
   ]
  },
  {
   "cell_type": "markdown",
   "metadata": {},
   "source": [
    "Compile floating point values"
   ]
  },
  {
   "cell_type": "code",
   "execution_count": 7,
   "metadata": {},
   "outputs": [],
   "source": [
    "!as F.s -mfpu=vfpv2"
   ]
  },
  {
   "cell_type": "code",
   "execution_count": 8,
   "metadata": {},
   "outputs": [
    {
     "name": "stdout",
     "output_type": "stream",
     "text": [
      "/usr/lib/gcc/arm-linux-gnueabihf/6/../../../arm-linux-gnueabihf/crt1.o: In function `_start':\r\n",
      "(.text+0x34): undefined reference to `main'\r\n",
      "collect2: error: ld returned 1 exit status\r\n"
     ]
    }
   ],
   "source": [
    "!gcc F.s"
   ]
  },
  {
   "cell_type": "markdown",
   "metadata": {},
   "source": [
    "Final call for the floating point values after edits"
   ]
  },
  {
   "cell_type": "code",
   "execution_count": 9,
   "metadata": {},
   "outputs": [
    {
     "name": "stdout",
     "output_type": "stream",
     "text": [
      "\t\t\t.arch armv6\r\n",
      ".data \r\n",
      "\t\t\t\r\n",
      ".text\r\n",
      "F:   push {lr}\r\n",
      "@ X is in R0\r\n",
      "@ Y is in R1\r\n",
      "@ MaxIt is in R2\r\n",
      "@ S0 is R\r\n",
      "  R .req s0\r\n",
      "@ S1 is cx\r\n",
      "@ S2 is cy\r\n",
      "\r\n",
      "@ float zx = ((1.0*X)/511.)*2.*R-R;\r\n",
      "@ shift x by 1  and put into S3\r\n",
      "  zx .req s3\r\n",
      "  \r\n",
      "@ convert signed integer to float (this is an operation on S3)\r\n",
      "@ divide by the floating point constant 511.\r\n",
      "@ multiply by R\r\n",
      "@ subtract R\r\n",
      "\r\n",
      "@ Repeat for zy\r\n",
      "@ float zy = ((1.0*Y)/511.)*2.*R-R; (put this in s11 if we want to vectorize)\r\n",
      "    zy  .req s11\r\n",
      "\r\n",
      "@   float xtemp = 0.0; \r\n",
      "\r\n",
      "@\tint iteration = 0;\r\n",
      "    iter .req r0\r\n",
      "    sub iter,iter\r\n",
      "    \r\n",
      "@\tint max_iteration = MaxIt;\r\n",
      "    MaxIt .req r2\r\n",
      "    \r\n",
      "@  Recall zx is s3 and zy is s11\r\n",
      "@   while ( (zx * zx + zy * zy) < R*R) \r\n",
      "    vmul.f32  R,R,R   @ R is now squared\r\n",
      "    vmul.f32  s4,zx,zx\r\n",
      "    vmul.f32  s12,zy,zy\r\n",
      "    vadd.f32  s4,s4,s12\r\n",
      "    vcmp.f32  s4,R\r\n",
      "    bge done\r\n",
      "     \r\n",
      "    \r\n",
      "    \r\n",
      "done:     pop  {pc}\r\n"
     ]
    }
   ],
   "source": [
    "!cat F.s"
   ]
  },
  {
   "cell_type": "code",
   "execution_count": 10,
   "metadata": {},
   "outputs": [],
   "source": [
    "!as F.s -mfpu=vfpv2"
   ]
  }
 ],
 "metadata": {
  "kernelspec": {
   "display_name": "Python 3",
   "language": "python",
   "name": "python3"
  },
  "language_info": {
   "codemirror_mode": {
    "name": "ipython",
    "version": 3
   },
   "file_extension": ".py",
   "mimetype": "text/x-python",
   "name": "python",
   "nbconvert_exporter": "python",
   "pygments_lexer": "ipython3",
   "version": "3.5.3"
  }
 },
 "nbformat": 4,
 "nbformat_minor": 2
}
